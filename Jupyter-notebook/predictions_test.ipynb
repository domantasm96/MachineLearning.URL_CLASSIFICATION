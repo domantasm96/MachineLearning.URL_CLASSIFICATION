{
 "cells": [
  {
   "cell_type": "code",
   "execution_count": 1,
   "metadata": {},
   "outputs": [
    {
     "name": "stdout",
     "output_type": "stream",
     "text": [
      "[nltk_data] Downloading package stopwords to\n",
      "[nltk_data]     /home/domantas/nltk_data...\n",
      "[nltk_data]   Package stopwords is already up-to-date!\n",
      "[nltk_data] Downloading package words to /home/domantas/nltk_data...\n",
      "[nltk_data]   Package words is already up-to-date!\n",
      "[nltk_data] Downloading package punkt to /home/domantas/nltk_data...\n",
      "[nltk_data]   Package punkt is already up-to-date!\n"
     ]
    },
    {
     "data": {
      "text/plain": [
       "True"
      ]
     },
     "execution_count": 1,
     "metadata": {},
     "output_type": "execute_result"
    }
   ],
   "source": [
    "import pandas as pd\n",
    "import nltk\n",
    "import ast\n",
    "import numpy as np\n",
    "import os\n",
    "import ast\n",
    "from urllib.request import urlopen\n",
    "from bs4 import BeautifulSoup\n",
    "import os.path\n",
    "nltk.download('stopwords')\n",
    "nltk.download('words')\n",
    "nltk.download('punkt')"
   ]
  },
  {
   "cell_type": "code",
   "execution_count": 2,
   "metadata": {},
   "outputs": [],
   "source": [
    "\n",
    "from sklearn.externals import joblib\n",
    "filename = \"Models/LR_model.joblib\"\n",
    "lr = joblib.load(filename) \n",
    "lr_max = joblib.load(\"Models/LR_maxtrain.joblib\") \n",
    "\n",
    "import pickle\n",
    "pickle_in = open(\"Models/word_frequency.picle\",\"rb\")\n",
    "words_frequency = pickle.load(pickle_in)\n",
    "\n"
   ]
  },
  {
   "cell_type": "code",
   "execution_count": null,
   "metadata": {},
   "outputs": [],
   "source": [
    "urls = 'https://docs.scipy.org/doc/scipy/reference/generated/scipy.sparse.coo_matrix.html'\n",
    "top = 2500"
   ]
  },
  {
   "cell_type": "code",
   "execution_count": null,
   "metadata": {},
   "outputs": [],
   "source": [
    "for url in urls:\n",
    "    html = urlopen(url, timeout=15).read()\n",
    "    soup = BeautifulSoup(html, \"html.parser\")\n",
    "    [tag.decompose() for tag in soup(\"script\")]\n",
    "    [tag.decompose() for tag in soup(\"style\")]\n",
    "    text = soup.get_text()\n",
    "    lines = (line.strip() for line in text.splitlines())\n",
    "    chunks = (phrase.strip() for line in lines for phrase in line.split(\"  \"))\n",
    "    text = '\\n'.join(chunk.lower() for chunk in chunks if chunk)\n",
    "    tokens = nltk.word_tokenize(text)\n",
    "    \n",
    "    from collections import Counter\n",
    "    counter = 0\n",
    "    features_pred = np.zeros(top * len(words_frequency)).reshape(len(words_frequency), top)\n",
    "    c = [word for word, word_count in Counter(tokens).most_common(top)]\n",
    "    \n",
    "    for category in words_frequency.keys():\n",
    "        for word in c:\n",
    "            if word in words_frequency[category]:\n",
    "                features_pred[counter][words_frequency[category].index(word)] = 1\n",
    "        counter+=1\n",
    "        \n",
    "    category_weight = []\n",
    "    for i in features_pred:\n",
    "        weight_cof = np.where(i == 1)[0]\n",
    "        weight_sum = 0\n",
    "        for cof in weight_cof:\n",
    "            weight_sum += top - cof\n",
    "        category_weight.append(weight_sum)\n",
    "    cat_index = category_weight.index(max(category_weight))\n",
    "    category = list(words_frequency.keys())[cat_index]\n",
    "    feature = features_pred[cat_index].reshape(-1, top)\n",
    "    print(category)\n",
    "    \n",
    "    prediction = lr.predict(feature)\n",
    "    print(\"Predicted category : \", list(words_frequency.keys())[int(prediction[0])])\n",
    "    "
   ]
  },
  {
   "cell_type": "code",
   "execution_count": null,
   "metadata": {},
   "outputs": [],
   "source": []
  }
 ],
 "metadata": {
  "kernelspec": {
   "display_name": "Python 3",
   "language": "python",
   "name": "python3"
  },
  "language_info": {
   "codemirror_mode": {
    "name": "ipython",
    "version": 3
   },
   "file_extension": ".py",
   "mimetype": "text/x-python",
   "name": "python",
   "nbconvert_exporter": "python",
   "pygments_lexer": "ipython3",
   "version": "3.6.7"
  }
 },
 "nbformat": 4,
 "nbformat_minor": 2
}
